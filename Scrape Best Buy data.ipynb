{
 "cells": [
  {
   "cell_type": "code",
   "execution_count": 1,
   "id": "related-connecticut",
   "metadata": {},
   "outputs": [],
   "source": [
    "from selenium import webdriver\n",
    "from selenium.webdriver.common.keys import Keys\n",
    "import pandas as pd\n",
    "import time\n",
    "from collections import defaultdict"
   ]
  },
  {
   "cell_type": "code",
   "execution_count": 2,
   "id": "immediate-combining",
   "metadata": {},
   "outputs": [],
   "source": [
    "driver = webdriver.Chrome(r\"C:\\Users\\idris\\Downloads\\chromedriver_win32\\chromedriver.exe\")"
   ]
  },
  {
   "cell_type": "code",
   "execution_count": 3,
   "id": "retained-wealth",
   "metadata": {},
   "outputs": [],
   "source": [
    "driver.get('https://www.bestbuy.ca/en-ca/category/televisions/21344')"
   ]
  },
  {
   "cell_type": "code",
   "execution_count": 4,
   "id": "norwegian-narrow",
   "metadata": {},
   "outputs": [],
   "source": [
    "driver.maximize_window()"
   ]
  },
  {
   "cell_type": "code",
   "execution_count": 6,
   "id": "serious-uganda",
   "metadata": {},
   "outputs": [],
   "source": [
    "no_of_items = driver.find_elements_by_xpath('//*[@id=\"root\"]/div/div[2]/div[1]/div/main/div[1]/div[3]/div/div[1]')"
   ]
  },
  {
   "cell_type": "code",
   "execution_count": 7,
   "id": "earned-desktop",
   "metadata": {},
   "outputs": [
    {
     "data": {
      "text/plain": [
       "[<selenium.webdriver.remote.webelement.WebElement (session=\"e99f1c16f1f6dfbc9b90ad6eb02cd7bd\", element=\"5305c3c2-1841-47da-8f40-a69b0c212bd0\")>]"
      ]
     },
     "execution_count": 7,
     "metadata": {},
     "output_type": "execute_result"
    }
   ],
   "source": [
    "no_of_items"
   ]
  },
  {
   "cell_type": "code",
   "execution_count": 8,
   "id": "cloudy-perfume",
   "metadata": {},
   "outputs": [
    {
     "data": {
      "text/plain": [
       "'969 results'"
      ]
     },
     "execution_count": 8,
     "metadata": {},
     "output_type": "execute_result"
    }
   ],
   "source": [
    "no_of_items[0].text"
   ]
  },
  {
   "cell_type": "code",
   "execution_count": 9,
   "id": "portable-arkansas",
   "metadata": {},
   "outputs": [],
   "source": [
    "no_of_items = int(no_of_items[0].text.split()[0])\n",
    "no_of_show_more_clicks = no_of_items//29"
   ]
  },
  {
   "cell_type": "code",
   "execution_count": 10,
   "id": "solved-hawaiian",
   "metadata": {},
   "outputs": [
    {
     "data": {
      "text/plain": [
       "33"
      ]
     },
     "execution_count": 10,
     "metadata": {},
     "output_type": "execute_result"
    }
   ],
   "source": [
    "no_of_show_more_clicks"
   ]
  },
  {
   "cell_type": "code",
   "execution_count": 11,
   "id": "steady-rachel",
   "metadata": {},
   "outputs": [],
   "source": [
    "for _ in range(no_of_show_more_clicks):\n",
    "    driver.find_elements_by_xpath('//*[@id=\"root\"]/div/div[2]/div[1]/div/main/div[1]/a/div/button')[0].click()\n",
    "    time.sleep(3)"
   ]
  },
  {
   "cell_type": "code",
   "execution_count": 12,
   "id": "rubber-ireland",
   "metadata": {},
   "outputs": [
    {
     "name": "stdout",
     "output_type": "stream",
     "text": [
      "Out of Index\n",
      "Out of Index\n",
      "Out of Index\n",
      "Out of Index\n",
      "Out of Index\n",
      "Out of Index\n",
      "Out of Index\n",
      "Out of Index\n",
      "Out of Index\n",
      "Out of Index\n",
      "Out of Index\n",
      "Out of Index\n",
      "Out of Index\n",
      "Out of Index\n",
      "Out of Index\n",
      "Out of Index\n",
      "Out of Index\n",
      "Out of Index\n",
      "Out of Index\n",
      "Out of Index\n",
      "Out of Index\n",
      "Out of Index\n",
      "Out of Index\n",
      "Out of Index\n",
      "Out of Index\n",
      "Out of Index\n",
      "Out of Index\n",
      "Out of Index\n",
      "Out of Index\n",
      "Out of Index\n",
      "Out of Index\n",
      "Out of Index\n",
      "Out of Index\n",
      "Out of Index\n",
      "Out of Index\n",
      "Out of Index\n",
      "Out of Index\n",
      "Out of Index\n",
      "Out of Index\n",
      "Out of Index\n",
      "Out of Index\n",
      "Out of Index\n",
      "Out of Index\n",
      "Out of Index\n",
      "Out of Index\n",
      "Out of Index\n",
      "Out of Index\n",
      "Out of Index\n",
      "Out of Index\n",
      "Out of Index\n",
      "Out of Index\n",
      "Out of Index\n",
      "Out of Index\n",
      "Out of Index\n",
      "Out of Index\n",
      "Out of Index\n",
      "Out of Index\n",
      "Out of Index\n",
      "Out of Index\n",
      "Out of Index\n",
      "Out of Index\n",
      "Out of Index\n",
      "Out of Index\n",
      "Out of Index\n",
      "Out of Index\n",
      "Out of Index\n",
      "Out of Index\n",
      "Out of Index\n",
      "Out of Index\n",
      "Out of Index\n",
      "Out of Index\n",
      "Out of Index\n",
      "Out of Index\n",
      "Out of Index\n",
      "Out of Index\n",
      "Out of Index\n",
      "Out of Index\n",
      "Out of Index\n",
      "Out of Index\n",
      "Out of Index\n",
      "Out of Index\n",
      "Out of Index\n",
      "Out of Index\n",
      "Out of Index\n",
      "Out of Index\n",
      "Out of Index\n",
      "Out of Index\n",
      "Out of Index\n",
      "Out of Index\n",
      "Out of Index\n",
      "Out of Index\n",
      "Out of Index\n",
      "Out of Index\n",
      "Out of Index\n",
      "Out of Index\n",
      "Out of Index\n",
      "Out of Index\n",
      "Out of Index\n",
      "Out of Index\n",
      "Out of Index\n",
      "Out of Index\n",
      "Out of Index\n",
      "Out of Index\n",
      "Out of Index\n",
      "Out of Index\n",
      "Out of Index\n",
      "Out of Index\n",
      "Out of Index\n",
      "Out of Index\n",
      "Out of Index\n",
      "Out of Index\n",
      "Out of Index\n",
      "Out of Index\n",
      "Out of Index\n",
      "Out of Index\n",
      "Out of Index\n",
      "Out of Index\n",
      "Out of Index\n",
      "Out of Index\n",
      "Out of Index\n",
      "Out of Index\n",
      "Out of Index\n",
      "Out of Index\n",
      "Out of Index\n",
      "Out of Index\n",
      "Out of Index\n",
      "Out of Index\n",
      "Out of Index\n",
      "Out of Index\n",
      "Out of Index\n",
      "Out of Index\n",
      "Out of Index\n",
      "Out of Index\n",
      "Out of Index\n",
      "Out of Index\n"
     ]
    }
   ],
   "source": [
    "array = []\n",
    "for i in range(1,no_of_show_more_clicks*29):\n",
    "    try:\n",
    "        search = driver.find_element_by_xpath('//*[@id=\"root\"]/div/div[2]/div[1]/div/main/div[1]/div[4]/div/div/ul/div/div[{}]'.format(i))\n",
    "        array.append(search.text)\n",
    "    except:\n",
    "        print('Out of Index')\n"
   ]
  },
  {
   "cell_type": "code",
   "execution_count": 13,
   "id": "broad-honolulu",
   "metadata": {},
   "outputs": [
    {
     "data": {
      "text/plain": [
       "['Sponsored\\nAmazon Echo Show 10 with Alexa - Charcoal\\n(1167 Reviews)\\nTop Deal\\n$249.99\\n$249.99\\nSAVE $80\\nAvailable to ship\\nAvailable at nearby stores',\n",
       " 'Sponsored\\nAmazon Echo (4th Gen) Smart Home Hub with Alexa - Glacier White\\n(441 Reviews)\\nTop Deal\\n$94.99\\n$94.99\\nSAVE $20\\nAvailable to ship\\nSold out in nearby stores',\n",
       " 'Samsung 55\" 4K UHD HDR LED Tizen Smart TV (UN55TU690TFXZC) - 2022 - Only at Best Buy\\n(40 Reviews)\\n$599.99\\n$599.99\\nPlus $15.50 EHF\\nAvailable to ship\\nAvailable at nearby stores',\n",
       " 'Samsung 43\" 4K UHD HDR LED Tizen Smart TV (UN43TU690TFXZC) - 2022 - Only at Best Buy\\n(1015 Reviews)\\nTop Deal\\n$399.99\\n$399.99\\nPlus $12.20 EHF\\nSold out online\\nSold out in nearby stores',\n",
       " 'Samsung The Frame 65\" 4K UHD HDR QLED Tizen Smart TV (QN65LS03BAFXZC) - 2022 - Charcoal Black\\n(418 Reviews)\\nTop Deal\\n$2299.99\\n$2,299.99\\nSAVE $400\\nAvailable to ship\\nSold out in nearby stores']"
      ]
     },
     "execution_count": 13,
     "metadata": {},
     "output_type": "execute_result"
    }
   ],
   "source": [
    "array[:5]"
   ]
  },
  {
   "cell_type": "code",
   "execution_count": 14,
   "id": "compressed-bankruptcy",
   "metadata": {},
   "outputs": [
    {
     "data": {
      "text/plain": [
       "'Sponsored\\nAmazon Echo Show 10 with Alexa - Charcoal\\n(1167 Reviews)\\nTop Deal\\n$249.99\\n$249.99\\nSAVE $80\\nAvailable to ship\\nAvailable at nearby stores'"
      ]
     },
     "execution_count": 14,
     "metadata": {},
     "output_type": "execute_result"
    }
   ],
   "source": [
    "array[0]"
   ]
  },
  {
   "cell_type": "code",
   "execution_count": 15,
   "id": "blocked-embassy",
   "metadata": {},
   "outputs": [
    {
     "data": {
      "text/plain": [
       "['Sponsored',\n",
       " 'Amazon Echo Show 10 with Alexa - Charcoal',\n",
       " '(1167 Reviews)',\n",
       " 'Top Deal',\n",
       " '$249.99',\n",
       " '$249.99',\n",
       " 'SAVE $80',\n",
       " 'Available to ship',\n",
       " 'Available at nearby stores']"
      ]
     },
     "execution_count": 15,
     "metadata": {},
     "output_type": "execute_result"
    }
   ],
   "source": [
    "array[0].splitlines()"
   ]
  },
  {
   "cell_type": "code",
   "execution_count": 16,
   "id": "accessible-ballot",
   "metadata": {},
   "outputs": [],
   "source": [
    "default = defaultdict(list)"
   ]
  },
  {
   "cell_type": "code",
   "execution_count": 17,
   "id": "domestic-healthcare",
   "metadata": {},
   "outputs": [
    {
     "name": "stdout",
     "output_type": "stream",
     "text": [
      "No index\n"
     ]
    }
   ],
   "source": [
    "for items in array:\n",
    "    try:\n",
    "        if 'Sponsored' in items.splitlines():\n",
    "            default['description'].append(items.splitlines()[1])\n",
    "            default['reviews'].append(items.splitlines()[2])\n",
    "        else:\n",
    "            default['description'].append(items.splitlines()[0])\n",
    "            default['reviews'].append(items.splitlines()[1])\n",
    "\n",
    "        if 'Top Deal' in items.splitlines() and 'Sponsored' in items.splitlines():\n",
    "            default['Price'].append(items.splitlines()[4])\n",
    "            default['Discount'].append(items.splitlines()[6])\n",
    "        elif 'Top Deal' in items.splitlines() or 'Sponsored' in items.splitlines():\n",
    "            default['Price'].append(items.splitlines()[3])\n",
    "            default['Discount'].append(items.splitlines()[5])\n",
    "        else:\n",
    "            default['Price'].append(items.splitlines()[2])\n",
    "            default['Discount'].append(items.splitlines()[4])\n",
    "    except:\n",
    "        print('No index')"
   ]
  },
  {
   "cell_type": "code",
   "execution_count": 18,
   "id": "treated-import",
   "metadata": {},
   "outputs": [],
   "source": [
    "df = pd.DataFrame.from_dict(default, orient='index')\n",
    "df = df.transpose()"
   ]
  },
  {
   "cell_type": "code",
   "execution_count": 19,
   "id": "attractive-album",
   "metadata": {},
   "outputs": [
    {
     "data": {
      "text/html": [
       "<div>\n",
       "<style scoped>\n",
       "    .dataframe tbody tr th:only-of-type {\n",
       "        vertical-align: middle;\n",
       "    }\n",
       "\n",
       "    .dataframe tbody tr th {\n",
       "        vertical-align: top;\n",
       "    }\n",
       "\n",
       "    .dataframe thead th {\n",
       "        text-align: right;\n",
       "    }\n",
       "</style>\n",
       "<table border=\"1\" class=\"dataframe\">\n",
       "  <thead>\n",
       "    <tr style=\"text-align: right;\">\n",
       "      <th></th>\n",
       "      <th>description</th>\n",
       "      <th>reviews</th>\n",
       "      <th>Price</th>\n",
       "      <th>Discount</th>\n",
       "    </tr>\n",
       "  </thead>\n",
       "  <tbody>\n",
       "    <tr>\n",
       "      <th>0</th>\n",
       "      <td>Amazon Echo Show 10 with Alexa - Charcoal</td>\n",
       "      <td>(1167 Reviews)</td>\n",
       "      <td>$249.99</td>\n",
       "      <td>SAVE $80</td>\n",
       "    </tr>\n",
       "    <tr>\n",
       "      <th>1</th>\n",
       "      <td>Amazon Echo (4th Gen) Smart Home Hub with Alex...</td>\n",
       "      <td>(441 Reviews)</td>\n",
       "      <td>$94.99</td>\n",
       "      <td>SAVE $20</td>\n",
       "    </tr>\n",
       "    <tr>\n",
       "      <th>2</th>\n",
       "      <td>Samsung 55\" 4K UHD HDR LED Tizen Smart TV (UN5...</td>\n",
       "      <td>(40 Reviews)</td>\n",
       "      <td>$599.99</td>\n",
       "      <td>Plus $15.50 EHF</td>\n",
       "    </tr>\n",
       "    <tr>\n",
       "      <th>3</th>\n",
       "      <td>Samsung 43\" 4K UHD HDR LED Tizen Smart TV (UN4...</td>\n",
       "      <td>(1015 Reviews)</td>\n",
       "      <td>$399.99</td>\n",
       "      <td>Plus $12.20 EHF</td>\n",
       "    </tr>\n",
       "    <tr>\n",
       "      <th>4</th>\n",
       "      <td>Samsung The Frame 65\" 4K UHD HDR QLED Tizen Sm...</td>\n",
       "      <td>(418 Reviews)</td>\n",
       "      <td>$2299.99</td>\n",
       "      <td>SAVE $400</td>\n",
       "    </tr>\n",
       "  </tbody>\n",
       "</table>\n",
       "</div>"
      ],
      "text/plain": [
       "                                         description         reviews  \\\n",
       "0          Amazon Echo Show 10 with Alexa - Charcoal  (1167 Reviews)   \n",
       "1  Amazon Echo (4th Gen) Smart Home Hub with Alex...   (441 Reviews)   \n",
       "2  Samsung 55\" 4K UHD HDR LED Tizen Smart TV (UN5...    (40 Reviews)   \n",
       "3  Samsung 43\" 4K UHD HDR LED Tizen Smart TV (UN4...  (1015 Reviews)   \n",
       "4  Samsung The Frame 65\" 4K UHD HDR QLED Tizen Sm...   (418 Reviews)   \n",
       "\n",
       "      Price         Discount  \n",
       "0   $249.99         SAVE $80  \n",
       "1    $94.99         SAVE $20  \n",
       "2   $599.99  Plus $15.50 EHF  \n",
       "3   $399.99  Plus $12.20 EHF  \n",
       "4  $2299.99        SAVE $400  "
      ]
     },
     "execution_count": 19,
     "metadata": {},
     "output_type": "execute_result"
    }
   ],
   "source": [
    "df.head()"
   ]
  },
  {
   "cell_type": "code",
   "execution_count": 20,
   "id": "needed-biodiversity",
   "metadata": {},
   "outputs": [
    {
     "data": {
      "text/plain": [
       "821"
      ]
     },
     "execution_count": 20,
     "metadata": {},
     "output_type": "execute_result"
    }
   ],
   "source": [
    "len(df)"
   ]
  },
  {
   "cell_type": "code",
   "execution_count": null,
   "id": "julian-apparel",
   "metadata": {},
   "outputs": [],
   "source": []
  }
 ],
 "metadata": {
  "kernelspec": {
   "display_name": "Python 3 (ipykernel)",
   "language": "python",
   "name": "python3"
  },
  "language_info": {
   "codemirror_mode": {
    "name": "ipython",
    "version": 3
   },
   "file_extension": ".py",
   "mimetype": "text/x-python",
   "name": "python",
   "nbconvert_exporter": "python",
   "pygments_lexer": "ipython3",
   "version": "3.10.9"
  }
 },
 "nbformat": 4,
 "nbformat_minor": 5
}

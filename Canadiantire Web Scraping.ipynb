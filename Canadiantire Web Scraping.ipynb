{
 "cells": [
  {
   "cell_type": "code",
   "execution_count": 1,
   "id": "729882c4",
   "metadata": {},
   "outputs": [],
   "source": [
    "# Import relevant libraries\n",
    "from splinter import Browser\n",
    "from bs4 import BeautifulSoup as soup\n",
    "import matplotlib.pyplot as plt\n",
    "import pandas as pd"
   ]
  },
  {
   "cell_type": "code",
   "execution_count": 2,
   "id": "a7ef4f7b",
   "metadata": {},
   "outputs": [],
   "source": [
    "# Launch the browser\n",
    "browser = Browser('chrome')"
   ]
  },
  {
   "cell_type": "code",
   "execution_count": 3,
   "id": "9ad9c4ac",
   "metadata": {},
   "outputs": [],
   "source": [
    "url = 'https://www.canadiantire.ca/en/cat/home-pets/home-electronics/tv-video-home-theater/televisions-DC0000890.html'\n",
    "# Send the browser to the URL\n",
    "browser.visit(url)\n",
    "\n",
    "# Save the HTML from the browser\n",
    "html = browser.html\n",
    "\n",
    "# Create a BeautifulSoup object from the HTML\n",
    "html_soup = soup(html, 'html.parser')"
   ]
  },
  {
   "cell_type": "code",
   "execution_count": 13,
   "id": "e1e016b9",
   "metadata": {},
   "outputs": [
    {
     "data": {
      "text/plain": [
       "[<div class=\"nl-product-title-sku\"><div class=\"nl-product-card__title nl-product--trim\" id=\"title__categorylevelN-499-0117-8\">RCA RTRU5028 Roku Smart 4K UHD TV, 50-in</div></div>,\n",
       " <div class=\"nl-product-title-sku\"><div class=\"nl-product-card__title nl-product--trim\" id=\"title__categorylevelN-399-8781-4\">Hisense 4K Ultra HD VIDAA Smart TV, 55-in</div></div>,\n",
       " <div class=\"nl-product-title-sku\"><div class=\"nl-product-card__title nl-product--trim\" id=\"title__categorylevelN-399-8777-6\">RCA 4K Ultra HD Roku Smart LED TV, 43-in</div></div>,\n",
       " <div class=\"nl-product-title-sku\"><div class=\"nl-product-card__title nl-product--trim\" id=\"title__categorylevelN-399-9354-6\">RCA 720p LED HD Smart TV, 32-in</div></div>,\n",
       " <div class=\"nl-product-title-sku\"><div class=\"nl-product-card__title nl-product--trim\" id=\"title__categorylevelN-045-2093-0\">RCA 24-in RLEDV2488 LED TV Combo w/ Built-In DVD Player &amp; HDMI Input</div></div>,\n",
       " <div class=\"nl-product-title-sku\"><div class=\"nl-product-card__title nl-product--trim\" id=\"title__categorylevelN-399-9294-8\">RCA 4K UHD HDR10 WebOS Smart TV, 65-in</div></div>,\n",
       " <div class=\"nl-product-title-sku\"><div class=\"nl-product-card__title nl-product--trim\" id=\"title__categorylevelN-399-9846-6\">Skyworth 55-in 55UC6200 4K UHD LED Smart TV w/ Wi-Fi, Google Assistant &amp; HDMI Input</div></div>,\n",
       " <div class=\"nl-product-title-sku\"><div class=\"nl-product-card__title nl-product--trim\" id=\"title__categorylevelN-399-8653-0\">Skyworth 4K UHD Android Smart TV with Google Assistant, 50-in</div></div>,\n",
       " <div class=\"nl-product-title-sku\"><div class=\"nl-product-card__title nl-product--trim\" id=\"title__categorylevelN-399-9266-6\">RCA RWOSU58 4K UHD webOS Smart TV with HDMI Input, 58-in</div></div>,\n",
       " <div class=\"nl-product-title-sku\"><div class=\"nl-product-card__title nl-product--trim\" id=\"title__categorylevelN-399-5990-4\">Skyworth 40-in 40E10 LED Android 11 Smart TV w/ Wi-Fi, Google Assistant, Full HD &amp; HDMI Input</div></div>,\n",
       " <div class=\"nl-product-title-sku\"><div class=\"nl-product-card__title nl-product--trim\" id=\"title__categorylevelN-399-9379-8\">RCA 1080p LED Roku Smart TV, 42-in</div></div>,\n",
       " <div class=\"nl-product-title-sku\"><div class=\"nl-product-card__title nl-product--trim\" id=\"title__categorylevelN-574-9148-0\">TygerClaw LCD84113BLK Superior TV Cart with Glossy Glass Base and Shelf, 32-in to 55-in</div></div>,\n",
       " <div class=\"nl-product-title-sku\"><div class=\"nl-product-card__title nl-product--trim\" id=\"title__categorylevelN-399-8334-0\">LG 43-in 43UP7000PUA 4K UHD HDR LED Smart TV w/ webOS 6.0, Home Assistant Compatible</div></div>,\n",
       " <div class=\"nl-product-title-sku\"><div class=\"nl-product-card__title nl-product--trim\" id=\"title__categorylevelN-399-9371-4\">LG 43UQ7590PUB 43-in 4K Ultra HD LED Smart TV w/ Wi-Fi, Bluetooth, HDMI</div></div>,\n",
       " <div class=\"nl-product-title-sku\"><div class=\"nl-product-card__title nl-product--trim\" id=\"title__categorylevelN-399-9381-0\">Hisense 65-in 4K UHD VIDAA Smart TV w/ Bluetooth, HDMI &amp; Dolby Vision/HDR10</div></div>,\n",
       " <div class=\"nl-product-title-sku\"><div class=\"nl-product-card__title nl-product--trim\" id=\"title__categorylevelN-399-9380-2\">RCA 4K Quantum Dot Smart TV, 70-in</div></div>,\n",
       " <div class=\"nl-product-title-sku\"><div class=\"nl-product-card__title nl-product--trim\" id=\"title__categorylevelN-399-9372-2\">LG 50UQ7590PUB 50-in 4K Ultra HD LED Smart TV w/ Wi-Fi, Bluetooth, HDMI</div></div>,\n",
       " <div class=\"nl-product-title-sku\"><div class=\"nl-product-card__title nl-product--trim\" id=\"title__categorylevelN-399-9373-0\">LG UQ7590 4K HDR UHD Smart TV, 55-in</div></div>,\n",
       " <div class=\"nl-product-title-sku\"><div class=\"nl-product-card__title nl-product--trim\" id=\"title__categorylevelN-399-9382-8\">Hisense 65-in 4K QLED UHD Google Smart TV with Dolby Vision, Bluetooth, Alexa</div></div>,\n",
       " <div class=\"nl-product-title-sku\"><div class=\"nl-product-card__title nl-product--trim\" id=\"title__categorylevelN-499-0604-8\">RCA RTRU6528 Roku 4K UHD Smart TV with HDMI Input, 65-in</div></div>,\n",
       " <div class=\"nl-product-title-sku\"><div class=\"nl-product-card__title nl-product--trim\" id=\"title__categorylevelN-399-9374-8\">LG UQ7590 4K HDR UHD Smart TV, 65-in</div></div>,\n",
       " <div class=\"nl-product-title-sku\"><div class=\"nl-product-card__title nl-product--trim\" id=\"title__categorylevelN-399-9378-0\">Hisense 1080p Full HD Smart Android TV, 32-in</div></div>,\n",
       " <div class=\"nl-product-title-sku\"><div class=\"nl-product-card__title nl-product--trim\" id=\"title__categorylevelN-499-0118-6\">RCA RTRU5528 Roku 4K UHD Smart TV, 55-in</div></div>]"
      ]
     },
     "execution_count": 13,
     "metadata": {},
     "output_type": "execute_result"
    }
   ],
   "source": [
    "Tv_info= html_soup.find_all('div', class_=\"nl-product-title-sku\")\n",
    "Tv_info"
   ]
  },
  {
   "cell_type": "code",
   "execution_count": 6,
   "id": "1710e90c",
   "metadata": {},
   "outputs": [
    {
     "data": {
      "text/plain": [
       "[<span class=\"nl-price--total\" data-testid=\"priceTotal\">$369.99</span>,\n",
       " <span class=\"nl-price--total\" data-testid=\"priceTotal\">$459.99</span>,\n",
       " <span class=\"nl-price--total\" data-testid=\"priceTotal\">$329.99</span>,\n",
       " <span class=\"nl-price--total\" data-testid=\"priceTotal\">$199.99</span>,\n",
       " <span class=\"nl-price--total\" data-testid=\"priceTotal\">$199.99</span>,\n",
       " <span class=\"nl-price--total\" data-testid=\"priceTotal\">$719.99</span>,\n",
       " <span class=\"nl-price--total\" data-testid=\"priceTotal\">$419.99</span>,\n",
       " <span class=\"nl-price--total\" data-testid=\"priceTotal\">$489.99</span>,\n",
       " <span class=\"nl-price--total\" data-testid=\"priceTotal\">$519.99</span>,\n",
       " <span class=\"nl-price--total\" data-testid=\"priceTotal\">$269.99</span>,\n",
       " <span class=\"nl-price--total\" data-testid=\"priceTotal\">$329.99</span>,\n",
       " <span class=\"nl-price--total\" data-testid=\"priceTotal\">$259.99</span>,\n",
       " <span class=\"nl-price--total\" data-testid=\"priceTotal\">$549.99</span>,\n",
       " <span class=\"nl-price--total\" data-testid=\"priceTotal\">$799.99</span>,\n",
       " <span class=\"nl-price--total\" data-testid=\"priceTotal\">$999.99</span>,\n",
       " <span class=\"nl-price--total\" data-testid=\"priceTotal\">$649.99</span>,\n",
       " <span class=\"nl-price--total\" data-testid=\"priceTotal\">$749.99</span>,\n",
       " <span class=\"nl-price--total\" data-testid=\"priceTotal\">$1,199.99</span>,\n",
       " <span class=\"nl-price--total\" data-testid=\"priceTotal\">$649.99</span>,\n",
       " <span class=\"nl-price--total\" data-testid=\"priceTotal\">$899.99</span>,\n",
       " <span class=\"nl-price--total\" data-testid=\"priceTotal\">$199.99</span>,\n",
       " <span class=\"nl-price--total\" data-testid=\"priceTotal\">$499.99</span>]"
      ]
     },
     "execution_count": 6,
     "metadata": {},
     "output_type": "execute_result"
    }
   ],
   "source": [
    "Tv_price= html_soup.find_all('span', class_=\"nl-price--total\")\n",
    "Tv_price"
   ]
  },
  {
   "cell_type": "code",
   "execution_count": 8,
   "id": "3acf1ef6",
   "metadata": {},
   "outputs": [
    {
     "data": {
      "text/plain": [
       "[<div class=\"nl-product-card__title nl-product--trim\" id=\"title__categorylevelN-499-0117-8\">RCA RTRU5028 Roku Smart 4K UHD TV, 50-in</div>,\n",
       " <div class=\"nl-product-card__title nl-product--trim\" id=\"title__categorylevelN-399-8781-4\">Hisense 4K Ultra HD VIDAA Smart TV, 55-in</div>,\n",
       " <div class=\"nl-product-card__title nl-product--trim\" id=\"title__categorylevelN-399-8777-6\">RCA 4K Ultra HD Roku Smart LED TV, 43-in</div>,\n",
       " <div class=\"nl-product-card__title nl-product--trim\" id=\"title__categorylevelN-399-9354-6\">RCA 720p LED HD Smart TV, 32-in</div>,\n",
       " <div class=\"nl-product-card__title nl-product--trim\" id=\"title__categorylevelN-045-2093-0\">RCA 24-in RLEDV2488 LED TV Combo w/ Built-In DVD Player &amp; HDMI Input</div>,\n",
       " <div class=\"nl-product-card__title nl-product--trim\" id=\"title__categorylevelN-399-9294-8\">RCA 4K UHD HDR10 WebOS Smart TV, 65-in</div>,\n",
       " <div class=\"nl-product-card__title nl-product--trim\" id=\"title__categorylevelN-399-9846-6\">Skyworth 55-in 55UC6200 4K UHD LED Smart TV w/ Wi-Fi, Google Assistant &amp; HDMI Input</div>,\n",
       " <div class=\"nl-product-card__title nl-product--trim\" id=\"title__categorylevelN-399-8653-0\">Skyworth 4K UHD Android Smart TV with Google Assistant, 50-in</div>,\n",
       " <div class=\"nl-product-card__title nl-product--trim\" id=\"title__categorylevelN-399-9266-6\">RCA RWOSU58 4K UHD webOS Smart TV with HDMI Input, 58-in</div>,\n",
       " <div class=\"nl-product-card__title nl-product--trim\" id=\"title__categorylevelN-399-5990-4\">Skyworth 40-in 40E10 LED Android 11 Smart TV w/ Wi-Fi, Google Assistant, Full HD &amp; HDMI Input</div>,\n",
       " <div class=\"nl-product-card__title nl-product--trim\" id=\"title__categorylevelN-399-9379-8\">RCA 1080p LED Roku Smart TV, 42-in</div>,\n",
       " <div class=\"nl-product-card__title nl-product--trim\" id=\"title__categorylevelN-574-9148-0\">TygerClaw LCD84113BLK Superior TV Cart with Glossy Glass Base and Shelf, 32-in to 55-in</div>,\n",
       " <div class=\"nl-product-card__title nl-product--trim\" id=\"title__categorylevelN-399-8334-0\">LG 43-in 43UP7000PUA 4K UHD HDR LED Smart TV w/ webOS 6.0, Home Assistant Compatible</div>,\n",
       " <div class=\"nl-product-card__title nl-product--trim\" id=\"title__categorylevelN-399-9371-4\">LG 43UQ7590PUB 43-in 4K Ultra HD LED Smart TV w/ Wi-Fi, Bluetooth, HDMI</div>,\n",
       " <div class=\"nl-product-card__title nl-product--trim\" id=\"title__categorylevelN-399-9381-0\">Hisense 65-in 4K UHD VIDAA Smart TV w/ Bluetooth, HDMI &amp; Dolby Vision/HDR10</div>,\n",
       " <div class=\"nl-product-card__title nl-product--trim\" id=\"title__categorylevelN-399-9380-2\">RCA 4K Quantum Dot Smart TV, 70-in</div>,\n",
       " <div class=\"nl-product-card__title nl-product--trim\" id=\"title__categorylevelN-399-9372-2\">LG 50UQ7590PUB 50-in 4K Ultra HD LED Smart TV w/ Wi-Fi, Bluetooth, HDMI</div>,\n",
       " <div class=\"nl-product-card__title nl-product--trim\" id=\"title__categorylevelN-399-9373-0\">LG UQ7590 4K HDR UHD Smart TV, 55-in</div>,\n",
       " <div class=\"nl-product-card__title nl-product--trim\" id=\"title__categorylevelN-399-9382-8\">Hisense 65-in 4K QLED UHD Google Smart TV with Dolby Vision, Bluetooth, Alexa</div>,\n",
       " <div class=\"nl-product-card__title nl-product--trim\" id=\"title__categorylevelN-499-0604-8\">RCA RTRU6528 Roku 4K UHD Smart TV with HDMI Input, 65-in</div>,\n",
       " <div class=\"nl-product-card__title nl-product--trim\" id=\"title__categorylevelN-399-9374-8\">LG UQ7590 4K HDR UHD Smart TV, 65-in</div>,\n",
       " <div class=\"nl-product-card__title nl-product--trim\" id=\"title__categorylevelN-399-9378-0\">Hisense 1080p Full HD Smart Android TV, 32-in</div>,\n",
       " <div class=\"nl-product-card__title nl-product--trim\" id=\"title__categorylevelN-499-0118-6\">RCA RTRU5528 Roku 4K UHD Smart TV, 55-in</div>]"
      ]
     },
     "execution_count": 8,
     "metadata": {},
     "output_type": "execute_result"
    }
   ],
   "source": [
    "Tv_description= html_soup.find_all('div' , class_='nl-product-card__title nl-product--trim')\n",
    "Tv_description"
   ]
  },
  {
   "cell_type": "code",
   "execution_count": 14,
   "id": "5ad1549f",
   "metadata": {},
   "outputs": [
    {
     "data": {
      "text/plain": [
       "[]"
      ]
     },
     "execution_count": 14,
     "metadata": {},
     "output_type": "execute_result"
    }
   ],
   "source": [
    "Tv_Ratings = html_soup.find_all('div' , class_='bv_text')\n",
    "Tv_Ratings"
   ]
  },
  {
   "cell_type": "code",
   "execution_count": null,
   "id": "88cc8253",
   "metadata": {},
   "outputs": [],
   "source": []
  },
  {
   "cell_type": "code",
   "execution_count": null,
   "id": "b3f71266",
   "metadata": {},
   "outputs": [],
   "source": []
  },
  {
   "cell_type": "code",
   "execution_count": null,
   "id": "1b9e7082",
   "metadata": {},
   "outputs": [],
   "source": []
  }
 ],
 "metadata": {
  "kernelspec": {
   "display_name": "Python 3 (ipykernel)",
   "language": "python",
   "name": "python3"
  },
  "language_info": {
   "codemirror_mode": {
    "name": "ipython",
    "version": 3
   },
   "file_extension": ".py",
   "mimetype": "text/x-python",
   "name": "python",
   "nbconvert_exporter": "python",
   "pygments_lexer": "ipython3",
   "version": "3.10.9"
  }
 },
 "nbformat": 4,
 "nbformat_minor": 5
}
